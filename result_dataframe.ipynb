{
 "cells": [
  {
   "cell_type": "code",
   "execution_count": 1,
   "source": [
    "import pandas as pd\n",
    "from tqdm import tqdm\n",
    "import warnings\n",
    "\n",
    "from result_dataframe import scan_multirun, scan_outputs"
   ],
   "outputs": [],
   "metadata": {}
  },
  {
   "cell_type": "markdown",
   "source": [
    "## Get dataframe containing all the experiments"
   ],
   "metadata": {}
  },
  {
   "cell_type": "code",
   "execution_count": 2,
   "source": [
    "warnings.filterwarnings(\"ignore\")\n",
    "records = scan_multirun() + scan_outputs()\n",
    "df = pd.DataFrame(records)\n",
    "df.sort_values(\n",
    "    [\"dataset\", \"label_column\", \"encoder\", \"nways\", \"kshots\", \"readout\"], inplace=True\n",
    ")\n",
    "print(df)"
   ],
   "outputs": [
    {
     "output_type": "stream",
     "name": "stderr",
     "text": [
      "100%|██████████| 389/389 [00:01<00:00, 287.39it/s]\n",
      "100%|██████████| 11/11 [00:00<00:00, 370.67it/s]"
     ]
    },
    {
     "output_type": "stream",
     "name": "stdout",
     "text": [
      "      dataset      encoder readout  nways  kshots label_column f1_micro  \\\n",
      "139  conll-de  bert-german      LR      5       1     ner_tags    27.90   \n",
      "136  conll-de  bert-german      LR      5       5     ner_tags    66.21   \n",
      "126  conll-de  bert-german      LR      5      10     ner_tags    72.52   \n",
      "220  conll-de     gottbert      LR      5       1     ner_tags    26.27   \n",
      "219  conll-de     gottbert      LR      5       5     ner_tags    58.37   \n",
      "..        ...          ...     ...    ...     ...          ...      ...   \n",
      "260    wnut17     spanbert      LR      5       5     ner_tags    42.29   \n",
      "255    wnut17     spanbert      LR      5      10     ner_tags    48.84   \n",
      "178    wnut17        xlnet      LR      5       1     ner_tags    24.36   \n",
      "182    wnut17        xlnet      LR      5       5     ner_tags    42.26   \n",
      "177    wnut17        xlnet      LR      5      10     ner_tags    49.74   \n",
      "\n",
      "    f1_micro_pm            timestamp  \n",
      "139        2.19  2021-09-20/18-13-16  \n",
      "136        1.77  2021-09-20/18-13-16  \n",
      "126        1.60  2021-09-20/18-13-16  \n",
      "220        2.11  2021-09-20/19-03-59  \n",
      "219        1.76  2021-09-20/19-03-59  \n",
      "..          ...                  ...  \n",
      "260        1.98  2021-09-20/22-13-09  \n",
      "255        2.04  2021-09-20/22-13-09  \n",
      "178        1.95  2021-09-20/22-41-13  \n",
      "182        2.03  2021-09-20/22-41-13  \n",
      "177        2.04  2021-09-20/22-41-13  \n",
      "\n",
      "[315 rows x 9 columns]\n"
     ]
    },
    {
     "output_type": "stream",
     "name": "stderr",
     "text": [
      "\n"
     ]
    }
   ],
   "metadata": {}
  },
  {
   "cell_type": "markdown",
   "source": [
    "## Reproduce Table 2"
   ],
   "metadata": {}
  },
  {
   "cell_type": "code",
   "execution_count": 3,
   "source": [
    "new_df = df.loc[\n",
    "    (\n",
    "        df[\"dataset\"].isin(\n",
    "            [\n",
    "                \"conll2003\",\n",
    "                \"ontonotes\",\n",
    "                \"fewnerd\",\n",
    "                \"lenovo\",\n",
    "                \"wikiann\",\n",
    "                \"wnut17\",\n",
    "                \"wikigold\",\n",
    "            ]\n",
    "        )\n",
    "    )\n",
    "    & (df[\"encoder\"].isin([\"random\", \"bert\", \"albert\", \"roberta\", \"spanbert\", \"xlnet\"]))\n",
    "    & (df[\"nways\"] == 5)\n",
    "    & (df[\"readout\"] == \"LR\")\n",
    "]\n",
    "new_df.sort_values([\"dataset\", \"label_column\", \"kshots\", \"encoder\"], inplace=True)\n",
    "new_df.drop_duplicates(\n",
    "    [\"dataset\", \"label_column\", \"kshots\", \"encoder\"], keep=\"last\", inplace=True\n",
    ")\n",
    "print(\n",
    "    new_df[\n",
    "        [\n",
    "            \"dataset\",\n",
    "            \"label_column\",\n",
    "            \"kshots\",\n",
    "            \"encoder\",\n",
    "            \"f1_micro\",\n",
    "            \"f1_micro_pm\",\n",
    "            \"timestamp\",\n",
    "        ]\n",
    "    ]\n",
    ")"
   ],
   "outputs": [
    {
     "output_type": "stream",
     "name": "stdout",
     "text": [
      "       dataset label_column  kshots   encoder f1_micro f1_micro_pm  \\\n",
      "211  conll2003     ner_tags       1    albert    33.03        1.90   \n",
      "267  conll2003     ner_tags       1      bert    21.96        1.78   \n",
      "288  conll2003     ner_tags       1    random     9.52        1.13   \n",
      "151  conll2003     ner_tags       1   roberta    21.71        1.78   \n",
      "172  conll2003     ner_tags       1  spanbert    18.39        1.57   \n",
      "..         ...          ...     ...       ...      ...         ...   \n",
      "205     wnut17     ner_tags      10      bert    58.77        1.87   \n",
      "202     wnut17     ner_tags      10    random    18.52        1.34   \n",
      "234     wnut17     ner_tags      10   roberta    63.93        1.86   \n",
      "255     wnut17     ner_tags      10  spanbert    48.84        2.04   \n",
      "177     wnut17     ner_tags      10     xlnet    49.74        2.04   \n",
      "\n",
      "               timestamp  \n",
      "211  2021-09-20/16-48-07  \n",
      "267  2021-09-20/16-22-11  \n",
      "288  2021-09-21/21-16-26  \n",
      "151  2021-09-20/16-55-39  \n",
      "172  2021-09-20/16-38-31  \n",
      "..                   ...  \n",
      "205  2021-09-20/21-07-46  \n",
      "202  2021-09-20/21-07-46  \n",
      "234  2021-09-20/23-30-50  \n",
      "255  2021-09-20/22-13-09  \n",
      "177  2021-09-20/22-41-13  \n",
      "\n",
      "[144 rows x 7 columns]\n"
     ]
    }
   ],
   "metadata": {}
  },
  {
   "cell_type": "markdown",
   "source": [
    "## Reproduce Table 3"
   ],
   "metadata": {}
  },
  {
   "cell_type": "code",
   "execution_count": 4,
   "source": [
    "new_df = df.loc[\n",
    "    (df[\"encoder\"].isin([\"bert-german\", \"gottbert\", \"xlm\"]))\n",
    "    & (df[\"nways\"] == 5)\n",
    "    & (df[\"readout\"] == \"LR\")\n",
    "]\n",
    "new_df.sort_values([\"dataset\", \"kshots\", \"encoder\"], inplace=True)\n",
    "print(new_df[[\"dataset\", \"kshots\", \"encoder\", \"f1_micro\", \"f1_micro_pm\"]])"
   ],
   "outputs": [
    {
     "output_type": "stream",
     "name": "stdout",
     "text": [
      "       dataset  kshots      encoder f1_micro f1_micro_pm\n",
      "139   conll-de       1  bert-german    27.90        2.19\n",
      "220   conll-de       1     gottbert    26.27        2.11\n",
      "14    conll-de       1          xlm    30.65        2.21\n",
      "136   conll-de       5  bert-german    66.21        1.77\n",
      "219   conll-de       5     gottbert    58.37        1.76\n",
      "13    conll-de       5          xlm    65.22        1.74\n",
      "126   conll-de      10  bert-german    72.52        1.60\n",
      "213   conll-de      10     gottbert    64.77        1.65\n",
      "7     conll-de      10          xlm    71.18        1.59\n",
      "142   germeval       1  bert-german    24.76        1.72\n",
      "215   germeval       1     gottbert    24.08        1.67\n",
      "9     germeval       1          xlm    27.24        1.76\n",
      "130   germeval       5  bert-german    59.58        1.69\n",
      "218   germeval       5     gottbert    54.06        1.62\n",
      "12    germeval       5          xlm    58.51        1.69\n",
      "140   germeval      10  bert-german    68.26        1.54\n",
      "214   germeval      10     gottbert    60.30        1.56\n",
      "8     germeval      10          xlm    65.37        1.53\n",
      "138  smartdata       1  bert-german    52.21        2.00\n",
      "217  smartdata       1     gottbert    49.96        1.96\n",
      "11   smartdata       1          xlm    53.17        1.98\n",
      "134  smartdata       5  bert-german    83.33        1.35\n",
      "216  smartdata       5     gottbert    79.30        1.38\n",
      "10   smartdata       5          xlm    80.89        1.33\n",
      "128  smartdata      10  bert-german    86.68        1.27\n",
      "212  smartdata      10     gottbert    83.10        1.37\n",
      "6    smartdata      10          xlm    85.66        1.30\n"
     ]
    }
   ],
   "metadata": {}
  },
  {
   "cell_type": "markdown",
   "source": [
    "## Reproduce Table 4"
   ],
   "metadata": {}
  },
  {
   "cell_type": "code",
   "execution_count": 5,
   "source": [
    "new_df = df.loc[\n",
    "    (df[\"encoder\"].isin([\"bert\", \"bert-pos\", \"bert-mnli\", \"bert-squad\"]))\n",
    "    & (df[\"nways\"] == 5)\n",
    "    & (df[\"readout\"] == \"LR\")\n",
    "]\n",
    "new_df.sort_values([\"dataset\", \"label_column\", \"kshots\", \"encoder\"], inplace=True)\n",
    "new_df.drop_duplicates(\n",
    "    [\"dataset\", \"label_column\", \"kshots\", \"encoder\"], keep=\"last\", inplace=True\n",
    ")\n",
    "print(\n",
    "    new_df[[\"dataset\", \"label_column\", \"kshots\", \"encoder\", \"f1_micro\", \"f1_micro_pm\"]]\n",
    ")"
   ],
   "outputs": [
    {
     "output_type": "stream",
     "name": "stdout",
     "text": [
      "       dataset label_column  kshots     encoder f1_micro f1_micro_pm\n",
      "267  conll2003     ner_tags       1        bert    21.96        1.78\n",
      "226  conll2003     ner_tags       1   bert-mnli    22.29        1.78\n",
      "115  conll2003     ner_tags       1    bert-pos    43.01        1.68\n",
      "31   conll2003     ner_tags       1  bert-squad    35.05        1.96\n",
      "266  conll2003     ner_tags       5        bert    60.94        1.81\n",
      "..         ...          ...     ...         ...      ...         ...\n",
      "32      wnut17     ner_tags       5  bert-squad    51.05        1.81\n",
      "205     wnut17     ner_tags      10        bert    58.77        1.87\n",
      "87      wnut17     ner_tags      10   bert-mnli    56.30        1.92\n",
      "88      wnut17     ner_tags      10    bert-pos    49.11        1.87\n",
      "15      wnut17     ner_tags      10  bert-squad    54.58        1.93\n",
      "\n",
      "[96 rows x 6 columns]\n"
     ]
    }
   ],
   "metadata": {}
  },
  {
   "cell_type": "markdown",
   "source": [
    "## Reproduce Table 5"
   ],
   "metadata": {}
  },
  {
   "cell_type": "code",
   "execution_count": 6,
   "source": [
    "new_df = df.loc[\n",
    "    (df[\"encoder\"].isin([\"bert\", \"bert-conll\"]))\n",
    "    & (df[\"nways\"] == 5)\n",
    "    & (df[\"readout\"] == \"LR\")\n",
    "]\n",
    "new_df.sort_values([\"dataset\", \"label_column\", \"kshots\", \"encoder\"], inplace=True)\n",
    "print(\n",
    "    new_df[[\"dataset\", \"label_column\", \"kshots\", \"encoder\", \"f1_micro\", \"f1_micro_pm\"]]\n",
    ")"
   ],
   "outputs": [
    {
     "output_type": "stream",
     "name": "stdout",
     "text": [
      "       dataset   label_column  kshots     encoder f1_micro f1_micro_pm\n",
      "267  conll2003       ner_tags       1        bert    21.96        1.78\n",
      "61   conll2003       ner_tags       1  bert-conll    90.46        1.09\n",
      "266  conll2003       ner_tags       5        bert    60.94        1.81\n",
      "59   conll2003       ner_tags       5  bert-conll    94.73        0.75\n",
      "263  conll2003       ner_tags      10        bert    66.11        1.61\n",
      "47   conll2003       ner_tags      10  bert-conll    94.40        0.81\n",
      "305    fewnerd  fine_ner_tags       1        bert    49.74        1.64\n",
      "65     fewnerd  fine_ner_tags       1  bert-conll    59.36        1.61\n",
      "304    fewnerd  fine_ner_tags       5        bert    80.12        1.30\n",
      "64     fewnerd  fine_ner_tags       5  bert-conll    79.70        1.28\n",
      "301    fewnerd  fine_ner_tags      10        bert    84.07        1.18\n",
      "63     fewnerd  fine_ner_tags      10  bert-conll    82.00        1.18\n",
      "293    fewnerd       ner_tags       1        bert    25.99        1.55\n",
      "56     fewnerd       ner_tags       1  bert-conll    53.25        1.65\n",
      "292    fewnerd       ner_tags       5        bert    53.85        1.43\n",
      "55     fewnerd       ner_tags       5  bert-conll    70.04        1.48\n",
      "289    fewnerd       ner_tags      10        bert    59.44        1.50\n",
      "46     fewnerd       ner_tags      10  bert-conll    72.66        1.40\n",
      "147     lenovo   ner_bio_tags       1        bert    37.39        1.73\n",
      "71      lenovo   ner_bio_tags       1  bert-conll    49.22        1.76\n",
      "146     lenovo   ner_bio_tags       5        bert    63.19        1.53\n",
      "70      lenovo   ner_bio_tags       5  bert-conll    65.40        1.60\n",
      "143     lenovo   ner_bio_tags      10        bert    67.45        1.54\n",
      "69      lenovo   ner_bio_tags      10  bert-conll    66.13        1.66\n",
      "204  ontonotes       ner_tags       1        bert    42.71        1.82\n",
      "52   ontonotes       ner_tags       1  bert-conll    58.99        1.73\n",
      "201  ontonotes       ner_tags       5        bert    74.68        1.52\n",
      "58   ontonotes       ner_tags       5  bert-conll    76.21        1.48\n",
      "188  ontonotes       ner_tags      10        bert    80.92        1.35\n",
      "51   ontonotes       ner_tags      10  bert-conll    77.75        1.48\n",
      "203    wikiann       ner_tags       1        bert    24.53        1.66\n",
      "54     wikiann       ner_tags       1  bert-conll    55.15        1.98\n",
      "199    wikiann       ner_tags       5        bert    48.33        1.64\n",
      "49     wikiann       ner_tags       5  bert-conll    67.22        1.61\n",
      "191    wikiann       ner_tags      10        bert    54.84        1.67\n",
      "48     wikiann       ner_tags      10  bert-conll    71.34        1.62\n",
      "207   wikigold       ner_tags       1        bert    18.40        1.60\n",
      "50    wikigold       ner_tags       1  bert-conll    68.83        1.62\n",
      "195   wikigold       ner_tags       5        bert    49.19        1.53\n",
      "57    wikigold       ner_tags       5  bert-conll    81.40        1.24\n",
      "186   wikigold       ner_tags      10        bert    55.85        1.51\n",
      "60    wikigold       ner_tags      10  bert-conll    84.68        1.12\n",
      "208     wnut17       ner_tags       1        bert    25.71        1.97\n",
      "53      wnut17       ner_tags       1  bert-conll    44.96        1.99\n",
      "194     wnut17       ner_tags       5        bert    51.56        1.95\n",
      "62      wnut17       ner_tags       5  bert-conll    63.99        1.78\n",
      "205     wnut17       ner_tags      10        bert    58.77        1.87\n",
      "45      wnut17       ner_tags      10  bert-conll    69.76        1.68\n"
     ]
    }
   ],
   "metadata": {}
  },
  {
   "cell_type": "markdown",
   "source": [
    "## Reproduce Table 6"
   ],
   "metadata": {}
  },
  {
   "cell_type": "code",
   "execution_count": 7,
   "source": [
    "new_df = df.loc[\n",
    "    (df[\"dataset\"].isin([\"conll2003\", \"ontonotes\"]))\n",
    "    & (df[\"encoder\"] == \"albert\")\n",
    "    & (df[\"nways\"] == 5)\n",
    "]\n",
    "new_df.sort_values([\"dataset\", \"kshots\", \"readout\"], inplace=True)\n",
    "new_df.drop_duplicates([\"dataset\", \"kshots\", \"readout\"], keep=\"last\", inplace=True)\n",
    "print(\n",
    "    new_df[\n",
    "        [\"dataset\", \"readout\", \"kshots\", \"f1_micro\", \"f1_micro_pm\", \"timestamp\"]\n",
    "    ].to_string(index=False)\n",
    ")"
   ],
   "outputs": [
    {
     "output_type": "stream",
     "name": "stdout",
     "text": [
      "  dataset readout  kshots f1_micro f1_micro_pm           timestamp\n",
      "conll2003      LR       1    33.03        1.90 2021-09-20/16-48-07\n",
      "conll2003      NC       1    35.21        1.87 2021-09-20/17-20-17\n",
      "conll2003      NN       1    40.76        1.72 2021-09-20/17-20-17\n",
      "conll2003      LR       5    68.33        1.57 2021-09-20/16-48-07\n",
      "conll2003      NC       5    61.53        1.65 2021-09-20/17-20-17\n",
      "conll2003      NN       5    62.24        1.60 2021-09-20/17-20-17\n",
      "conll2003      LR      10    72.76        1.57 2021-09-20/16-48-07\n",
      "conll2003      NC      10    62.65        1.65 2021-09-20/17-20-17\n",
      "conll2003      NN      10    67.79        1.62 2021-09-20/17-20-17\n",
      "ontonotes      LR       1    50.45        1.74 2021-09-20/23-13-34\n",
      "ontonotes      NC       1    51.52        1.71 2021-10-11/14-25-22\n",
      "ontonotes      NN       1    52.72        1.58 2021-10-11/14-25-22\n",
      "ontonotes      LR       5    77.66        1.32 2021-09-20/23-13-34\n",
      "ontonotes      NC       5    72.46        1.35 2021-10-11/14-25-22\n",
      "ontonotes      NN       5    71.04        1.29 2021-10-11/14-25-22\n",
      "ontonotes      LR      10    82.10        1.28 2021-09-20/23-13-34\n",
      "ontonotes      NC      10    73.49        1.35 2021-10-11/14-25-22\n",
      "ontonotes      NN      10    76.11        1.30 2021-10-11/14-25-22\n"
     ]
    }
   ],
   "metadata": {}
  }
 ],
 "metadata": {
  "orig_nbformat": 4,
  "language_info": {
   "name": "python",
   "version": "3.9.7",
   "mimetype": "text/x-python",
   "codemirror_mode": {
    "name": "ipython",
    "version": 3
   },
   "pygments_lexer": "ipython3",
   "nbconvert_exporter": "python",
   "file_extension": ".py"
  },
  "kernelspec": {
   "name": "python3",
   "display_name": "Python 3.9.7 64-bit"
  },
  "interpreter": {
   "hash": "e7370f93d1d0cde622a1f8e1c04877d8463912d04d973331ad4851f04de6915a"
  }
 },
 "nbformat": 4,
 "nbformat_minor": 2
}