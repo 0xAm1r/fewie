{
 "cells": [
  {
   "cell_type": "code",
   "execution_count": 45,
   "source": [
    "from datasets import load_dataset\n",
    "from flair.data import Sentence\n",
    "from flair.models import SequenceTagger\n",
    "from tqdm import tqdm\n",
    "import numpy as np\n"
   ],
   "outputs": [],
   "metadata": {}
  },
  {
   "cell_type": "code",
   "execution_count": 2,
   "source": [
    "dataset = load_dataset(\"conll2003\", split=\"test\", version=\"1.0.0\")\n",
    "tagger = SequenceTagger.load(\"flair/ner-english\")\n",
    "\n",
    "_CONLL_TAGS = {\n",
    "    'PER': 1,\n",
    "    'ORG': 3,\n",
    "    'LOC': 5,\n",
    "    'MISC': 7,\n",
    "}"
   ],
   "outputs": [
    {
     "output_type": "stream",
     "name": "stderr",
     "text": [
      "Using custom data configuration default\n",
      "Reusing dataset conll2003 (/home/yxchen/.cache/huggingface/datasets/conll2003/default/1.0.0/40e7cb6bcc374f7c349c83acd1e9352a4f09474eb691f64f364ee62eb65d0ca6)\n"
     ]
    },
    {
     "output_type": "stream",
     "name": "stdout",
     "text": [
      "2021-09-19 19:20:09,382 loading file /home/yxchen/.flair/models/ner-english/4f4cdab26f24cb98b732b389e6cebc646c36f54cfd6e0b7d3b90b25656e4262f.8baa8ae8795f4df80b28e7f7b61d788ecbb057d1dc85aacb316f1bd02837a4a4\n"
     ]
    }
   ],
   "metadata": {}
  },
  {
   "cell_type": "code",
   "execution_count": 36,
   "source": [
    "sentence = Sentence(\"George Waschington was the president of the USA\")\n",
    "tagger.predict(sentence)"
   ],
   "outputs": [
    {
     "output_type": "execute_result",
     "data": {
      "text/plain": [
       "8"
      ]
     },
     "metadata": {},
     "execution_count": 36
    }
   ],
   "metadata": {}
  },
  {
   "cell_type": "code",
   "execution_count": 57,
   "source": [
    "labels, predictions, valid = [], [], 0\n",
    "for record in tqdm(dataset):\n",
    "    tokens, ner_tags = record['tokens'], record['ner_tags']\n",
    "    sentence = Sentence(\" \".join(tokens))\n",
    "    \n",
    "    if len(sentence) != len(tokens):\n",
    "        continue\n",
    "    valid += 1\n",
    "    labels += ner_tags\n",
    "\n",
    "    pred = np.array([0] * len(ner_tags))\n",
    "    tagger.predict(sentence)\n",
    "\n",
    "    for span in sentence.get_spans('ner'):\n",
    "        span_pos = span.position_string.split('-')\n",
    "        span_tag = span.tag\n",
    "\n",
    "        span_start = int(span_pos[0]) - 1\n",
    "        pred[span_start] = _CONLL_TAGS[span.tag]\n",
    "\n",
    "        if len(span) == 2:\n",
    "            span_end = int(span_pos[1]) - 1\n",
    "            pred[(span_start+1): (span_end+1)] = _CONLL_TAGS[span.tag] + 1\n",
    "    pred = list(pred)\n",
    "    assert len(pred) == len(ner_tags)\n",
    "    predictions += pred\n",
    "print(valid)"
   ],
   "outputs": [
    {
     "output_type": "stream",
     "name": "stderr",
     "text": [
      "100%|██████████| 3453/3453 [03:20<00:00, 17.24it/s]"
     ]
    },
    {
     "output_type": "stream",
     "name": "stdout",
     "text": [
      "2937\n"
     ]
    },
    {
     "output_type": "stream",
     "name": "stderr",
     "text": [
      "\n"
     ]
    }
   ],
   "metadata": {}
  },
  {
   "cell_type": "code",
   "execution_count": 58,
   "source": [
    "import sklearn\n",
    "sklearn.metrics.f1_score(labels, predictions, labels=list(range(1, 9)), average='micro')"
   ],
   "outputs": [
    {
     "output_type": "execute_result",
     "data": {
      "text/plain": [
       "0.8924994084706996"
      ]
     },
     "metadata": {},
     "execution_count": 58
    }
   ],
   "metadata": {}
  }
 ],
 "metadata": {
  "orig_nbformat": 4,
  "language_info": {
   "name": "python",
   "version": "3.9.6",
   "mimetype": "text/x-python",
   "codemirror_mode": {
    "name": "ipython",
    "version": 3
   },
   "pygments_lexer": "ipython3",
   "nbconvert_exporter": "python",
   "file_extension": ".py"
  },
  "kernelspec": {
   "name": "python3",
   "display_name": "Python 3.9.6 64-bit"
  },
  "interpreter": {
   "hash": "e7370f93d1d0cde622a1f8e1c04877d8463912d04d973331ad4851f04de6915a"
  }
 },
 "nbformat": 4,
 "nbformat_minor": 2
}