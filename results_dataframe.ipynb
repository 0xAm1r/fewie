{
 "cells": [
  {
   "cell_type": "code",
   "execution_count": 1,
   "metadata": {},
   "outputs": [],
   "source": [
    "import pandas as pd\n",
    "import numpy as np\n",
    "import warnings"
   ]
  },
  {
   "cell_type": "markdown",
   "metadata": {},
   "source": [
    "## Get dataframe containing all the experiments"
   ]
  },
  {
   "cell_type": "code",
   "execution_count": 2,
   "metadata": {},
   "outputs": [
    {
     "name": "stderr",
     "output_type": "stream",
     "text": [
      "100%|██████████| 577/577 [00:02<00:00, 223.58it/s]\n",
      "100%|██████████| 11/11 [00:00<00:00, 264.82it/s]"
     ]
    },
    {
     "name": "stdout",
     "output_type": "stream",
     "text": [
      "      dataset      encoder readout  nways  kshots label_column  f1_micro  \\\n",
      "0    conll-de  bert-german      LR      5       1     ner_tags     29.42   \n",
      "1    conll-de  bert-german      LR      5       5     ner_tags     65.98   \n",
      "2    conll-de  bert-german      LR      5      10     ner_tags     71.43   \n",
      "3    conll-de     gottbert      LR      5       1     ner_tags     26.27   \n",
      "4    conll-de     gottbert      LR      5       5     ner_tags     58.37   \n",
      "..        ...          ...     ...    ...     ...          ...       ...   \n",
      "492    wnut17     spanbert      LR      5       5     ner_tags     42.29   \n",
      "493    wnut17     spanbert      LR      5      10     ner_tags     48.84   \n",
      "494    wnut17        xlnet      LR      5       1     ner_tags     24.36   \n",
      "495    wnut17        xlnet      LR      5       5     ner_tags     42.26   \n",
      "496    wnut17        xlnet      LR      5      10     ner_tags     49.74   \n",
      "\n",
      "     f1_micro_pm            timestamp  num_epochs  lr  weight_decay  \n",
      "0           2.26  2021-11-09 21:40:00         NaN NaN           NaN  \n",
      "1           1.81  2021-11-09 21:40:00         NaN NaN           NaN  \n",
      "2           1.59  2021-11-09 21:40:00         NaN NaN           NaN  \n",
      "3           2.11  2021-09-20 19:03:59         NaN NaN           NaN  \n",
      "4           1.76  2021-09-20 19:03:59         NaN NaN           NaN  \n",
      "..           ...                  ...         ...  ..           ...  \n",
      "492         1.98  2021-09-20 22:13:09         NaN NaN           NaN  \n",
      "493         2.04  2021-09-20 22:13:09         NaN NaN           NaN  \n",
      "494         1.95  2021-09-20 22:41:13         NaN NaN           NaN  \n",
      "495         2.03  2021-09-20 22:41:13         NaN NaN           NaN  \n",
      "496         2.04  2021-09-20 22:41:13         NaN NaN           NaN  \n",
      "\n",
      "[497 rows x 12 columns]\n"
     ]
    },
    {
     "name": "stderr",
     "output_type": "stream",
     "text": [
      "\n"
     ]
    }
   ],
   "source": [
    "warnings.filterwarnings(\"ignore\")\n",
    "\n",
    "# # if we have no csv yet where the results are stored\n",
    "# from tqdm import tqdm\n",
    "# from results_dataframe import scan_multirun, scan_outputs\n",
    "\n",
    "# records = scan_multirun() + scan_outputs()\n",
    "# df = pd.DataFrame(records)\n",
    "# df.sort_values(\n",
    "#     [\"dataset\", \"label_column\", \"encoder\", \"nways\", \"kshots\", \"readout\", \"timestamp\"], inplace=True\n",
    "# )\n",
    "# df.to_csv(\"results_dataframe.csv\", index=False)\n",
    "\n",
    "df = pd.read_csv(\"results_dataframe.csv\", index_col=False)\n",
    "print(df)"
   ]
  },
  {
   "cell_type": "markdown",
   "metadata": {},
   "source": [
    "## Reproduce Table 2: English encoders"
   ]
  },
  {
   "cell_type": "code",
   "execution_count": 3,
   "metadata": {},
   "outputs": [
    {
     "name": "stdout",
     "output_type": "stream",
     "text": [
      "       dataset  label_column  kshots     encoder  f1_micro  f1_micro_pm  \\\n",
      "116  conll2003      ner_tags       1      random      9.52         1.13   \n",
      "25   conll2003      ner_tags       1        bert     21.96         1.78   \n",
      "35   conll2003      ner_tags       1  bert-cased     22.04         1.77   \n",
      "12   conll2003      ner_tags       1      albert     33.03         1.90   \n",
      "120  conll2003      ner_tags       1     roberta     21.71         1.78   \n",
      "..         ...           ...     ...         ...       ...          ...   \n",
      "254     lenovo  ner_bio_tags      10  bert-cased     67.09         1.51   \n",
      "248     lenovo  ner_bio_tags      10      albert     66.61         1.46   \n",
      "272     lenovo  ner_bio_tags      10     roberta     70.16         1.48   \n",
      "275     lenovo  ner_bio_tags      10    spanbert     54.80         1.74   \n",
      "278     lenovo  ner_bio_tags      10       xlnet     63.79         1.68   \n",
      "\n",
      "               timestamp  \n",
      "116  2021-09-21 21:16:26  \n",
      "25   2021-09-20 16:22:11  \n",
      "35   2021-09-20 14:49:22  \n",
      "12   2021-09-20 16:48:07  \n",
      "120  2021-09-20 16:55:39  \n",
      "..                   ...  \n",
      "254  2021-09-20 19:56:52  \n",
      "248  2021-09-20 20:43:06  \n",
      "272  2021-09-20 20:55:36  \n",
      "275  2021-09-20 20:23:14  \n",
      "278  2021-09-20 20:32:57  \n",
      "\n",
      "[168 rows x 7 columns]\n"
     ]
    }
   ],
   "source": [
    "dataset_list = [\n",
    "    \"conll2003\",\n",
    "    \"ontonotes\",\n",
    "    \"fewnerd\",\n",
    "    \"wnut17\",\n",
    "    \"wikiann\",\n",
    "    \"wikigold\",\n",
    "    \"lenovo\",\n",
    "]\n",
    "encoder_list = [\n",
    "    \"random\",\n",
    "    \"bert\",\n",
    "    \"bert-cased\",\n",
    "    \"albert\",\n",
    "    \"roberta\",\n",
    "    \"spanbert\",\n",
    "    \"xlnet\",\n",
    "]\n",
    "\n",
    "new_df = df.loc[\n",
    "    (df[\"dataset\"].isin(dataset_list))\n",
    "    & (df[\"encoder\"].isin(encoder_list))\n",
    "    & (df[\"nways\"] == 5)\n",
    "    & (df[\"readout\"] == \"LR\")\n",
    "]\n",
    "# customize string ordering for the some columns\n",
    "new_df[\"dataset\"] = pd.Categorical(new_df[\"dataset\"], dataset_list)\n",
    "new_df[\"encoder\"] = pd.Categorical(new_df[\"encoder\"], encoder_list)\n",
    "new_df.sort_values(\n",
    "    [\"dataset\", \"label_column\", \"kshots\", \"encoder\", \"timestamp\"], inplace=True\n",
    ")\n",
    "new_df.drop_duplicates(\n",
    "    [\"dataset\", \"label_column\", \"kshots\", \"encoder\"], keep=\"last\", inplace=True\n",
    ")\n",
    "\n",
    "print(\n",
    "    new_df[\n",
    "        [\n",
    "            \"dataset\",\n",
    "            \"label_column\",\n",
    "            \"kshots\",\n",
    "            \"encoder\",\n",
    "            \"f1_micro\",\n",
    "            \"f1_micro_pm\",\n",
    "            \"timestamp\",\n",
    "        ]\n",
    "    ]\n",
    ")"
   ]
  },
  {
   "cell_type": "code",
   "execution_count": 4,
   "metadata": {},
   "outputs": [
    {
     "name": "stdout",
     "output_type": "stream",
     "text": [
      "conll2003\n",
      " random  bert  bert-cased  albert  roberta  spanbert  xlnet\n",
      "   9.52 21.96       22.04   33.03    21.71     18.39  18.49\n",
      "  12.53 60.94       62.17   68.33    64.49     43.22  44.82\n",
      "  13.71 66.11       68.79   72.76    72.09     49.79  52.43\n",
      "ontonotes\n",
      " random  bert  bert-cased  albert  roberta  spanbert  xlnet\n",
      "  18.66 42.71       45.09   50.45    42.74     34.30  38.40\n",
      "  19.73 74.68       77.70   77.66    78.70     65.64  72.60\n",
      "  18.88 80.92       82.70   82.10    83.80     74.14  78.38\n",
      "fewnerd\n",
      " random  bert  bert-cased  albert  roberta  spanbert  xlnet\n",
      "  21.14 49.74       48.50   54.27    51.27     39.13  47.02\n",
      "  21.00 80.12       79.26   78.08    81.70     71.93  82.73\n",
      "  20.62 84.07       83.21   81.17    84.95     78.39  85.73\n",
      "  12.12 25.99       28.52   35.67    28.12     23.34  25.93\n",
      "  15.59 53.85       56.04   59.14    58.66     45.50  52.32\n",
      "  16.04 59.44       63.20   63.30    65.52     52.65  61.94\n",
      "wnut17\n",
      " random  bert  bert-cased  albert  roberta  spanbert  xlnet\n",
      "  18.86 25.71       25.67   28.47    25.43     23.14  24.36\n",
      "  19.11 51.56       50.58   55.12    54.59     42.29  42.26\n",
      "  18.52 58.77       60.37   60.41    63.93     48.84  49.74\n",
      "wikiann\n",
      " random  bert  bert-cased  albert  roberta  spanbert  xlnet\n",
      "  12.07 24.53       25.92   32.63    24.80     22.67  22.06\n",
      "  15.64 48.33       52.29   53.11    51.34     40.60  36.81\n",
      "  16.95 54.84       59.48   59.10    60.83     46.44  44.19\n",
      "wikigold\n",
      " random  bert  bert-cased  albert  roberta  spanbert  xlnet\n",
      "   3.71 18.40       21.30   32.30    20.63     14.90  18.01\n",
      "  10.02 49.19       55.54   55.87    56.08     41.07  45.44\n",
      "  11.62 55.85       63.91   61.23    64.84     48.09  53.85\n",
      "lenovo\n",
      " random  bert  bert-cased  albert  roberta  spanbert  xlnet\n",
      "  13.49 37.39       36.82   41.23    38.79     25.83  31.25\n",
      "  17.08 63.19       62.17   62.73    66.44     49.08  57.69\n",
      "  16.21 67.45       67.09   66.61    70.16     54.80  63.79\n"
     ]
    }
   ],
   "source": [
    "# reshape the F1-scores in a matrix for more efficient number checking\n",
    "for dataset in dataset_list:\n",
    "    reshaped = new_df.loc[new_df[\"dataset\"] == dataset]\n",
    "    reshaped = reshaped[\"f1_micro\"].to_numpy().reshape((-1, len(encoder_list)))\n",
    "    reshaped = pd.DataFrame(reshaped, columns=encoder_list).to_string(index=False)\n",
    "    print(dataset)\n",
    "    print(reshaped)"
   ]
  },
  {
   "cell_type": "markdown",
   "metadata": {},
   "source": [
    "## Reproduce Table 3: German encoders"
   ]
  },
  {
   "cell_type": "code",
   "execution_count": 5,
   "metadata": {},
   "outputs": [
    {
     "name": "stdout",
     "output_type": "stream",
     "text": [
      "       dataset  kshots      encoder  f1_micro  f1_micro_pm\n",
      "6     conll-de       1       random     12.53         1.65\n",
      "0     conll-de       1  bert-german     29.42         2.26\n",
      "3     conll-de       1     gottbert     26.27         2.11\n",
      "9     conll-de       1          xlm     30.65         2.21\n",
      "7     conll-de       5       random     15.38         1.30\n",
      "1     conll-de       5  bert-german     65.98         1.81\n",
      "4     conll-de       5     gottbert     58.37         1.76\n",
      "10    conll-de       5          xlm     65.22         1.74\n",
      "8     conll-de      10       random     16.00         1.29\n",
      "2     conll-de      10  bert-german     71.43         1.59\n",
      "5     conll-de      10     gottbert     64.77         1.65\n",
      "11    conll-de      10          xlm     71.18         1.59\n",
      "240   germeval       1       random     17.52         1.45\n",
      "234   germeval       1  bert-german     25.89         1.74\n",
      "237   germeval       1     gottbert     24.08         1.67\n",
      "243   germeval       1          xlm     27.24         1.76\n",
      "241   germeval       5       random     20.70         1.48\n",
      "235   germeval       5  bert-german     61.79         1.70\n",
      "238   germeval       5     gottbert     54.06         1.62\n",
      "244   germeval       5          xlm     58.51         1.69\n",
      "242   germeval      10       random     18.33         1.37\n",
      "236   germeval      10  bert-german     71.18         1.47\n",
      "239   germeval      10     gottbert     60.30         1.56\n",
      "245   germeval      10          xlm     65.37         1.53\n",
      "360  smartdata       1       random     26.12         1.69\n",
      "354  smartdata       1  bert-german     52.12         2.04\n",
      "357  smartdata       1     gottbert     49.96         1.96\n",
      "363  smartdata       1          xlm     53.17         1.98\n",
      "361  smartdata       5       random     23.52         1.33\n",
      "355  smartdata       5  bert-german     82.50         1.30\n",
      "358  smartdata       5     gottbert     79.30         1.38\n",
      "364  smartdata       5          xlm     80.89         1.33\n",
      "362  smartdata      10       random     21.55         1.23\n",
      "356  smartdata      10  bert-german     86.01         1.26\n",
      "359  smartdata      10     gottbert     83.10         1.37\n",
      "365  smartdata      10          xlm     85.66         1.30\n"
     ]
    }
   ],
   "source": [
    "german_dataset_list = [\"conll-de\", \"germeval\", \"smartdata\"]\n",
    "encoder_list = [\"random\", \"bert-german\", \"gottbert\", \"xlm\"]\n",
    "\n",
    "new_df = df.loc[\n",
    "    (df[\"dataset\"].isin(german_dataset_list))\n",
    "    & (df[\"nways\"] == 5)\n",
    "    & (df[\"readout\"] == \"LR\")\n",
    "]\n",
    "new_df[\"dataset\"] = pd.Categorical(new_df[\"dataset\"], german_dataset_list)\n",
    "new_df[\"encoder\"] = pd.Categorical(new_df[\"encoder\"], encoder_list)\n",
    "new_df.sort_values([\"dataset\", \"kshots\", \"encoder\", \"timestamp\"], inplace=True)\n",
    "print(new_df[[\"dataset\", \"kshots\", \"encoder\", \"f1_micro\", \"f1_micro_pm\"]])"
   ]
  },
  {
   "cell_type": "code",
   "execution_count": 6,
   "metadata": {},
   "outputs": [
    {
     "name": "stdout",
     "output_type": "stream",
     "text": [
      "conll-de\n",
      " random  bert-german  gottbert   xlm\n",
      "  12.53        29.42     26.27 30.65\n",
      "  15.38        65.98     58.37 65.22\n",
      "  16.00        71.43     64.77 71.18\n",
      "germeval\n",
      " random  bert-german  gottbert   xlm\n",
      "  17.52        25.89     24.08 27.24\n",
      "  20.70        61.79     54.06 58.51\n",
      "  18.33        71.18     60.30 65.37\n",
      "smartdata\n",
      " random  bert-german  gottbert   xlm\n",
      "  26.12        52.12     49.96 53.17\n",
      "  23.52        82.50     79.30 80.89\n",
      "  21.55        86.01     83.10 85.66\n"
     ]
    }
   ],
   "source": [
    "# reshape the F1-scores in a matrix for more efficient number checking\n",
    "for dataset in german_dataset_list:\n",
    "    reshaped = new_df.loc[new_df[\"dataset\"] == dataset]\n",
    "    reshaped = reshaped[\"f1_micro\"].to_numpy().reshape((-1, len(encoder_list)))\n",
    "    reshaped = pd.DataFrame(reshaped, columns=encoder_list).to_string(index=False)\n",
    "    print(dataset)\n",
    "    print(reshaped)"
   ]
  },
  {
   "cell_type": "markdown",
   "metadata": {},
   "source": [
    "## Reproduce Table 4(a): non-NER fine-tuned encoders"
   ]
  },
  {
   "cell_type": "code",
   "execution_count": 7,
   "metadata": {},
   "outputs": [
    {
     "name": "stdout",
     "output_type": "stream",
     "text": [
      "       dataset  label_column  kshots     encoder  f1_micro  f1_micro_pm\n",
      "25   conll2003      ner_tags       1        bert     21.96         1.78\n",
      "46   conll2003      ner_tags       1    bert-pos     43.01         1.68\n",
      "42   conll2003      ner_tags       1   bert-mnli     22.29         1.78\n",
      "49   conll2003      ner_tags       1  bert-squad     35.05         1.96\n",
      "28   conll2003      ner_tags       5        bert     60.94         1.81\n",
      "..         ...           ...     ...         ...       ...          ...\n",
      "265     lenovo  ner_bio_tags       5  bert-squad     61.01         1.67\n",
      "251     lenovo  ner_bio_tags      10        bert     67.45         1.54\n",
      "263     lenovo  ner_bio_tags      10    bert-pos     60.61         1.51\n",
      "260     lenovo  ner_bio_tags      10   bert-mnli     66.23         1.59\n",
      "266     lenovo  ner_bio_tags      10  bert-squad     61.95         1.72\n",
      "\n",
      "[96 rows x 6 columns]\n"
     ]
    }
   ],
   "source": [
    "encoder_list = [\"bert\", \"bert-pos\", \"bert-mnli\", \"bert-squad\"]\n",
    "\n",
    "new_df = df.loc[\n",
    "    (df[\"encoder\"].isin(encoder_list)) & (df[\"nways\"] == 5) & (df[\"readout\"] == \"LR\")\n",
    "]\n",
    "new_df[\"dataset\"] = pd.Categorical(new_df[\"dataset\"], dataset_list)\n",
    "new_df[\"encoder\"] = pd.Categorical(new_df[\"encoder\"], encoder_list)\n",
    "new_df.sort_values(\n",
    "    [\"dataset\", \"label_column\", \"kshots\", \"encoder\", \"timestamp\"], inplace=True\n",
    ")\n",
    "new_df.drop_duplicates(\n",
    "    [\"dataset\", \"label_column\", \"kshots\", \"encoder\"], keep=\"last\", inplace=True\n",
    ")\n",
    "print(\n",
    "    new_df[[\"dataset\", \"label_column\", \"kshots\", \"encoder\", \"f1_micro\", \"f1_micro_pm\"]]\n",
    ")"
   ]
  },
  {
   "cell_type": "code",
   "execution_count": 9,
   "metadata": {},
   "outputs": [
    {
     "name": "stdout",
     "output_type": "stream",
     "text": [
      "conll2003\n",
      " bert  bert-pos  bert-mnli  bert-squad\n",
      "21.96     43.01      22.29       35.05\n",
      "60.94     65.72      61.34       65.94\n",
      "66.11     68.46      64.71       68.50\n",
      "ontonotes\n",
      " bert  bert-pos  bert-mnli  bert-squad\n",
      "42.71     50.85      42.99       47.83\n",
      "74.68     66.17      75.29       76.37\n",
      "80.92     68.02      80.94       79.68\n",
      "fewnerd\n",
      " bert  bert-pos  bert-mnli  bert-squad\n",
      "49.74     43.97      46.71       51.17\n",
      "80.12     63.08      77.14       78.58\n",
      "84.07     66.43      81.26       81.58\n",
      "25.99     34.70      26.08       35.07\n",
      "53.85     49.88      52.52       59.77\n",
      "59.44     52.78      58.17       63.09\n",
      "wnut17\n",
      " bert  bert-pos  bert-mnli  bert-squad\n",
      "25.71     32.04      25.12       29.04\n",
      "51.56     44.90      48.50       51.05\n",
      "58.77     49.11      56.30       54.58\n",
      "wikiann\n",
      " bert  bert-pos  bert-mnli  bert-squad\n",
      "24.53     32.92      23.35       33.33\n",
      "48.33     43.54      46.94       55.93\n",
      "54.84     45.70      53.47       63.37\n",
      "wikigold\n",
      " bert  bert-pos  bert-mnli  bert-squad\n",
      "18.40     37.46      20.33       30.80\n",
      "49.19     55.54      50.86       53.96\n",
      "55.85     55.62      55.81       57.99\n",
      "lenovo\n",
      " bert  bert-pos  bert-mnli  bert-squad\n",
      "37.39     45.67      37.29       40.90\n",
      "63.19     59.58      62.98       61.01\n",
      "67.45     60.61      66.23       61.95\n"
     ]
    }
   ],
   "source": [
    "# reshape the F1-scores in a matrix for more efficient number checking\n",
    "for dataset in dataset_list:\n",
    "    reshaped = new_df.loc[new_df[\"dataset\"] == dataset]\n",
    "    reshaped = reshaped[\"f1_micro\"].to_numpy().reshape((-1, len(encoder_list)))\n",
    "    reshaped = pd.DataFrame(reshaped, columns=encoder_list).to_string(index=False)\n",
    "    print(dataset)\n",
    "    print(reshaped)"
   ]
  },
  {
   "cell_type": "markdown",
   "metadata": {},
   "source": [
    "## Reproduce Table 4(b): NER fine-tuned encoders"
   ]
  },
  {
   "cell_type": "code",
   "execution_count": 10,
   "metadata": {},
   "outputs": [
    {
     "name": "stdout",
     "output_type": "stream",
     "text": [
      "       dataset   label_column  kshots     encoder  f1_micro  f1_micro_pm\n",
      "25   conll2003       ner_tags       1        bert     21.96         1.78\n",
      "38   conll2003       ner_tags       1  bert-conll     90.46         1.09\n",
      "28   conll2003       ner_tags       5        bert     60.94         1.81\n",
      "39   conll2003       ner_tags       5  bert-conll     94.73         0.75\n",
      "31   conll2003       ner_tags      10        bert     66.11         1.61\n",
      "40   conll2003       ner_tags      10  bert-conll     94.40         0.81\n",
      "402   wikigold       ner_tags       1        bert     18.40         1.60\n",
      "408   wikigold       ner_tags       1  bert-conll     68.83         1.62\n",
      "403   wikigold       ner_tags       5        bert     49.19         1.53\n",
      "409   wikigold       ner_tags       5  bert-conll     81.40         1.24\n",
      "404   wikigold       ner_tags      10        bert     55.85         1.51\n",
      "410   wikigold       ner_tags      10  bert-conll     84.68         1.12\n",
      "369    wikiann       ner_tags       1        bert     24.53         1.66\n",
      "375    wikiann       ner_tags       1  bert-conll     55.15         1.98\n",
      "370    wikiann       ner_tags       5        bert     48.33         1.64\n",
      "376    wikiann       ner_tags       5  bert-conll     67.22         1.61\n",
      "371    wikiann       ner_tags      10        bert     54.84         1.67\n",
      "377    wikiann       ner_tags      10  bert-conll     71.34         1.62\n",
      "141    fewnerd  fine_ner_tags       1        bert     49.74         1.64\n",
      "147    fewnerd  fine_ner_tags       1  bert-conll     59.36         1.61\n",
      "142    fewnerd  fine_ner_tags       5        bert     80.12         1.30\n",
      "148    fewnerd  fine_ner_tags       5  bert-conll     79.70         1.28\n",
      "143    fewnerd  fine_ner_tags      10        bert     84.07         1.18\n",
      "149    fewnerd  fine_ner_tags      10  bert-conll     82.00         1.18\n",
      "174    fewnerd       ner_tags       1        bert     25.99         1.55\n",
      "180    fewnerd       ner_tags       1  bert-conll     53.25         1.65\n",
      "175    fewnerd       ner_tags       5        bert     53.85         1.43\n",
      "181    fewnerd       ner_tags       5  bert-conll     70.04         1.48\n",
      "176    fewnerd       ner_tags      10        bert     59.44         1.50\n",
      "182    fewnerd       ner_tags      10  bert-conll     72.66         1.40\n",
      "467     wnut17       ner_tags       1        bert     25.71         1.97\n",
      "473     wnut17       ner_tags       1  bert-conll     44.96         1.99\n",
      "468     wnut17       ner_tags       5        bert     51.56         1.95\n",
      "474     wnut17       ner_tags       5  bert-conll     63.99         1.78\n",
      "469     wnut17       ner_tags      10        bert     58.77         1.87\n",
      "475     wnut17       ner_tags      10  bert-conll     69.76         1.68\n",
      "291  ontonotes       ner_tags       1        bert     42.71         1.82\n",
      "297  ontonotes       ner_tags       1  bert-conll     58.99         1.73\n",
      "292  ontonotes       ner_tags       5        bert     74.68         1.52\n",
      "298  ontonotes       ner_tags       5  bert-conll     76.21         1.48\n",
      "293  ontonotes       ner_tags      10        bert     80.92         1.35\n",
      "299  ontonotes       ner_tags      10  bert-conll     77.75         1.48\n",
      "249     lenovo   ner_bio_tags       1        bert     37.39         1.73\n",
      "255     lenovo   ner_bio_tags       1  bert-conll     49.22         1.76\n",
      "250     lenovo   ner_bio_tags       5        bert     63.19         1.53\n",
      "256     lenovo   ner_bio_tags       5  bert-conll     65.40         1.60\n",
      "251     lenovo   ner_bio_tags      10        bert     67.45         1.54\n",
      "257     lenovo   ner_bio_tags      10  bert-conll     66.13         1.66\n"
     ]
    }
   ],
   "source": [
    "reordered_dataset_list = [\n",
    "    \"conll2003\",\n",
    "    \"wikigold\",\n",
    "    \"wikiann\",\n",
    "    \"fewnerd\",\n",
    "    \"wnut17\",\n",
    "    \"ontonotes\",\n",
    "    \"lenovo\",\n",
    "]\n",
    "encoder_list = [\"bert\", \"bert-conll\"]\n",
    "\n",
    "new_df = df.loc[\n",
    "    (df[\"encoder\"].isin(encoder_list)) & (df[\"nways\"] == 5) & (df[\"readout\"] == \"LR\")\n",
    "]\n",
    "new_df[\"dataset\"] = pd.Categorical(new_df[\"dataset\"], reordered_dataset_list)\n",
    "new_df[\"encoder\"] = pd.Categorical(new_df[\"encoder\"], encoder_list)\n",
    "new_df.sort_values(\n",
    "    [\"dataset\", \"label_column\", \"kshots\", \"encoder\", \"timestamp\"], inplace=True\n",
    ")\n",
    "print(\n",
    "    new_df[[\"dataset\", \"label_column\", \"kshots\", \"encoder\", \"f1_micro\", \"f1_micro_pm\"]]\n",
    ")"
   ]
  },
  {
   "cell_type": "code",
   "execution_count": 11,
   "metadata": {},
   "outputs": [
    {
     "name": "stdout",
     "output_type": "stream",
     "text": [
      "conll2003\n",
      " bert  bert-conll\n",
      "21.96       90.46\n",
      "60.94       94.73\n",
      "66.11       94.40\n",
      "wikigold\n",
      " bert  bert-conll\n",
      "18.40       68.83\n",
      "49.19       81.40\n",
      "55.85       84.68\n",
      "wikiann\n",
      " bert  bert-conll\n",
      "24.53       55.15\n",
      "48.33       67.22\n",
      "54.84       71.34\n",
      "fewnerd\n",
      " bert  bert-conll\n",
      "49.74       59.36\n",
      "80.12       79.70\n",
      "84.07       82.00\n",
      "25.99       53.25\n",
      "53.85       70.04\n",
      "59.44       72.66\n",
      "wnut17\n",
      " bert  bert-conll\n",
      "25.71       44.96\n",
      "51.56       63.99\n",
      "58.77       69.76\n",
      "ontonotes\n",
      " bert  bert-conll\n",
      "42.71       58.99\n",
      "74.68       76.21\n",
      "80.92       77.75\n",
      "lenovo\n",
      " bert  bert-conll\n",
      "37.39       49.22\n",
      "63.19       65.40\n",
      "67.45       66.13\n"
     ]
    }
   ],
   "source": [
    "# reshape the F1-scores in a matrix for more efficient number checking\n",
    "for dataset in reordered_dataset_list:\n",
    "    reshaped = new_df.loc[new_df[\"dataset\"] == dataset]\n",
    "    reshaped = reshaped[\"f1_micro\"].to_numpy().reshape((-1, len(encoder_list)))\n",
    "    reshaped = pd.DataFrame(reshaped, columns=encoder_list).to_string(index=False)\n",
    "    print(dataset)\n",
    "    print(reshaped)"
   ]
  },
  {
   "cell_type": "markdown",
   "metadata": {},
   "source": [
    "## Reproduce Table 6: readout methods"
   ]
  },
  {
   "cell_type": "code",
   "execution_count": 28,
   "metadata": {},
   "outputs": [
    {
     "name": "stdout",
     "output_type": "stream",
     "text": [
      "  dataset readout  kshots  f1_micro  f1_micro_pm           timestamp\n",
      "conll2003      LR       1     33.03         1.90 2021-09-20 16:48:07\n",
      "conll2003      NC       1     35.21         1.87 2021-09-20 17:20:17\n",
      "conll2003      NN       1     40.76         1.72 2021-09-20 17:20:17\n",
      "conll2003      LR       5     68.33         1.57 2021-09-20 16:48:07\n",
      "conll2003      NC       5     61.53         1.65 2021-09-20 17:20:17\n",
      "conll2003      NN       5     62.24         1.60 2021-09-20 17:20:17\n",
      "conll2003      LR      10     72.76         1.57 2021-09-20 16:48:07\n",
      "conll2003      NC      10     62.65         1.65 2021-09-20 17:20:17\n",
      "conll2003      NN      10     67.79         1.62 2021-09-20 17:20:17\n",
      "ontonotes      LR       1     50.45         1.74 2021-10-11 14:25:22\n",
      "ontonotes      NC       1     51.52         1.71 2021-10-11 14:25:22\n",
      "ontonotes      NN       1     52.72         1.58 2021-10-11 14:25:22\n",
      "ontonotes      LR       5     77.66         1.32 2021-10-11 14:25:22\n",
      "ontonotes      NC       5     72.46         1.35 2021-10-11 14:25:22\n",
      "ontonotes      NN       5     71.04         1.29 2021-10-11 14:25:22\n",
      "ontonotes      LR      10     82.10         1.28 2021-10-11 14:25:22\n",
      "ontonotes      NC      10     73.49         1.35 2021-10-11 14:25:22\n",
      "ontonotes      NN      10     76.11         1.30 2021-10-11 14:25:22\n"
     ]
    }
   ],
   "source": [
    "new_df = df.loc[\n",
    "    (df[\"dataset\"].isin([\"conll2003\", \"ontonotes\"]))\n",
    "    & (df[\"encoder\"] == \"albert\")\n",
    "    & (df[\"nways\"] == 5)\n",
    "]\n",
    "new_df[\"dataset\"] = pd.Categorical(new_df[\"dataset\"], dataset_list)\n",
    "new_df.sort_values([\"dataset\", \"kshots\", \"readout\", \"timestamp\"], inplace=True)\n",
    "new_df.drop_duplicates(\n",
    "    [\"dataset\", \"kshots\", \"readout\", \"f1_micro\"], keep=\"last\", inplace=True\n",
    ")\n",
    "print(\n",
    "    new_df[\n",
    "        [\"dataset\", \"readout\", \"kshots\", \"f1_micro\", \"f1_micro_pm\", \"timestamp\"]\n",
    "    ].to_string(index=False)\n",
    ")"
   ]
  },
  {
   "cell_type": "code",
   "execution_count": 29,
   "metadata": {},
   "outputs": [
    {
     "name": "stdout",
     "output_type": "stream",
     "text": [
      "ALBERT on conll2003\n",
      "   LR    NC    NN\n",
      "33.03 35.21 40.76\n",
      "68.33 61.53 62.24\n",
      "72.76 62.65 67.79\n",
      "ALBERT on ontonotes\n",
      "   LR    NC    NN\n",
      "50.45 51.52 52.72\n",
      "77.66 72.46 71.04\n",
      "82.10 73.49 76.11\n"
     ]
    }
   ],
   "source": [
    "# reshape the F1-scores in a matrix for more efficient number checking\n",
    "for dataset in [\"conll2003\", \"ontonotes\"]:\n",
    "    reshaped = new_df.loc[new_df[\"dataset\"] == dataset]\n",
    "    reshaped = reshaped[\"f1_micro\"].to_numpy().reshape((-1, 3))\n",
    "    reshaped = pd.DataFrame(reshaped, columns=[\"LR\", \"NC\", \"NN\"]).to_string(index=False)\n",
    "    print(\"ALBERT on\", dataset)\n",
    "    print(reshaped)"
   ]
  },
  {
   "cell_type": "markdown",
   "metadata": {},
   "source": [
    "## Reproduce Table 5: contrastive learning (CL)"
   ]
  },
  {
   "cell_type": "code",
   "execution_count": 36,
   "metadata": {},
   "outputs": [
    {
     "name": "stdout",
     "output_type": "stream",
     "text": [
      "  dataset              encoder  kshots  f1_micro  f1_micro_pm           timestamp\n",
      "conll2003     contrastive_bert       1     23.87         1.86 2021-10-17 15:10:49\n",
      "conll2003     contrastive_bert       5     60.55         1.81 2021-10-17 15:10:49\n",
      "conll2003     contrastive_bert      10     65.03         1.72 2021-10-17 15:10:49\n",
      "conll2003   contrastive_albert       1     36.71         2.06 2021-10-17 16:02:46\n",
      "conll2003   contrastive_albert       5     66.85         1.63 2021-10-17 16:02:46\n",
      "conll2003   contrastive_albert      10     70.66         1.55 2021-10-17 16:02:46\n",
      "conll2003  contrastive_roberta       1     22.57         1.83 2021-10-17 16:57:45\n",
      "conll2003  contrastive_roberta       5     62.45         1.65 2021-10-17 16:57:45\n",
      "conll2003  contrastive_roberta      10     70.17         1.58 2021-10-17 16:57:45\n",
      "conll2003 contrastive_spanbert       1     17.61         1.62 2021-10-17 14:20:13\n",
      "conll2003 contrastive_spanbert       5     44.23         1.85 2021-10-17 14:20:13\n",
      "conll2003 contrastive_spanbert      10     49.82         1.79 2021-10-17 14:20:13\n",
      "conll2003    contrastive_xlnet       1     18.25         1.69 2021-10-17 12:52:43\n",
      "conll2003    contrastive_xlnet       5     45.93         2.01 2021-10-17 12:52:43\n",
      "conll2003    contrastive_xlnet      10     49.25         2.05 2021-10-17 12:52:43\n",
      "ontonotes     contrastive_bert       1     42.89         1.88 2021-10-17 15:10:49\n",
      "ontonotes     contrastive_bert       5     74.02         1.45 2021-10-17 15:10:49\n",
      "ontonotes     contrastive_bert      10     80.36         1.34 2021-10-17 15:10:49\n",
      "ontonotes   contrastive_albert       1     51.38         1.83 2021-10-17 16:02:46\n",
      "ontonotes   contrastive_albert       5     76.65         1.27 2021-10-17 16:02:46\n",
      "ontonotes   contrastive_albert      10     81.47         1.25 2021-10-17 16:02:46\n",
      "ontonotes  contrastive_roberta       1     41.66         1.87 2021-10-17 16:57:45\n",
      "ontonotes  contrastive_roberta       5     75.29         1.28 2021-10-17 16:57:45\n",
      "ontonotes  contrastive_roberta      10     82.51         1.19 2021-10-17 16:57:45\n",
      "ontonotes contrastive_spanbert       1     32.95         1.78 2021-10-17 14:20:13\n",
      "ontonotes contrastive_spanbert       5     64.29         1.62 2021-10-17 14:20:13\n",
      "ontonotes contrastive_spanbert      10     74.72         1.55 2021-10-17 14:20:13\n",
      "ontonotes    contrastive_xlnet       1     38.64         1.87 2021-10-17 12:52:43\n",
      "ontonotes    contrastive_xlnet       5     70.66         1.61 2021-10-17 12:52:43\n",
      "ontonotes    contrastive_xlnet      10     75.99         1.67 2021-10-17 12:52:43\n",
      "  fewnerd     contrastive_bert       1     27.42         1.63 2021-10-18 11:18:05\n",
      "  fewnerd     contrastive_bert       5     52.97         1.47 2021-10-18 11:18:05\n",
      "  fewnerd     contrastive_bert      10     59.89         1.41 2021-10-18 11:18:05\n",
      "  fewnerd   contrastive_albert       1     38.16         1.69 2021-10-18 12:13:53\n",
      "  fewnerd   contrastive_albert       5     59.71         1.39 2021-10-18 12:13:53\n",
      "  fewnerd   contrastive_albert      10     64.53         1.36 2021-10-18 12:13:53\n",
      "  fewnerd  contrastive_roberta       1     29.10         1.63 2021-10-18 12:49:48\n",
      "  fewnerd  contrastive_roberta       5     55.75         1.42 2021-10-18 12:49:48\n",
      "  fewnerd  contrastive_roberta      10     62.86         1.35 2021-10-18 12:49:48\n",
      "  fewnerd contrastive_spanbert       1     23.40         1.48 2021-10-18 13:31:03\n",
      "  fewnerd contrastive_spanbert       5     46.03         1.51 2021-10-18 13:31:03\n",
      "  fewnerd contrastive_spanbert      10     55.47         1.55 2021-10-18 13:31:03\n",
      "  fewnerd    contrastive_xlnet       1     26.35         1.57 2021-10-18 14:17:28\n",
      "  fewnerd    contrastive_xlnet       5     54.91         1.66 2021-10-18 14:17:28\n",
      "  fewnerd    contrastive_xlnet      10     61.45         1.59 2021-10-18 14:17:28\n",
      " wikigold     contrastive_bert       1     16.85         1.48 2021-10-18 22:36:25\n",
      " wikigold     contrastive_bert       5     49.19         1.53 2021-10-18 22:36:25\n",
      " wikigold     contrastive_bert      10     56.87         1.49 2021-10-18 22:36:25\n",
      " wikigold   contrastive_albert       1     34.05         1.65 2021-10-18 22:07:16\n",
      " wikigold   contrastive_albert       5     57.67         1.45 2021-10-18 22:07:16\n",
      " wikigold   contrastive_albert      10     62.68         1.32 2021-10-18 22:07:16\n",
      " wikigold  contrastive_roberta       1     19.90         1.50 2021-10-18 23:11:59\n",
      " wikigold  contrastive_roberta       5     53.91         1.47 2021-10-18 23:11:59\n",
      " wikigold  contrastive_roberta      10     63.05         1.42 2021-10-18 23:11:59\n",
      " wikigold contrastive_spanbert       1     15.39         1.37 2021-10-19 00:01:32\n",
      " wikigold contrastive_spanbert       5     42.92         1.61 2021-10-19 00:01:32\n",
      " wikigold contrastive_spanbert      10     50.93         1.63 2021-10-19 00:01:32\n",
      " wikigold    contrastive_xlnet       1     19.13         1.47 2021-10-19 00:36:14\n",
      " wikigold    contrastive_xlnet       5     44.21         1.69 2021-10-19 00:36:14\n",
      " wikigold    contrastive_xlnet      10     52.26         1.70 2021-10-19 00:36:14\n"
     ]
    }
   ],
   "source": [
    "dataset_list_CL = [\"conll2003\", \"ontonotes\", \"fewnerd\", \"wikigold\"]\n",
    "encoder_list_CL = [\n",
    "    \"contrastive_bert\",\n",
    "    \"contrastive_albert\",\n",
    "    \"contrastive_roberta\",\n",
    "    \"contrastive_spanbert\",\n",
    "    \"contrastive_xlnet\",\n",
    "]\n",
    "\n",
    "new_df = df.loc[\n",
    "    (df[\"dataset\"].isin(dataset_list_CL))\n",
    "    & (df[\"encoder\"].isin(encoder_list_CL))\n",
    "    & (df[\"num_epochs\"] == 1)\n",
    "    & (df[\"lr\"] == 0.00005)\n",
    "    & (df[\"weight_decay\"] == 0)\n",
    "]\n",
    "new_df.sort_values([\"dataset\", \"encoder\", \"kshots\", \"timestamp\"], inplace=True)\n",
    "new_df.drop_duplicates([\"dataset\", \"encoder\", \"kshots\"], keep=\"last\", inplace=True)\n",
    "print(\n",
    "    new_df[\n",
    "        [\"dataset\", \"encoder\", \"kshots\", \"f1_micro\", \"f1_micro_pm\", \"timestamp\"]\n",
    "    ].to_string(index=False)\n",
    ")"
   ]
  },
  {
   "cell_type": "code",
   "execution_count": 37,
   "metadata": {},
   "outputs": [
    {
     "name": "stdout",
     "output_type": "stream",
     "text": [
      "conll2003\n",
      " contrastive_bert  contrastive_albert  contrastive_roberta  contrastive_spanbert  contrastive_xlnet\n",
      "            23.87               36.71                22.57                 17.61              18.25\n",
      "            60.55               66.85                62.45                 44.23              45.93\n",
      "            65.03               70.66                70.17                 49.82              49.25\n",
      "ontonotes\n",
      " contrastive_bert  contrastive_albert  contrastive_roberta  contrastive_spanbert  contrastive_xlnet\n",
      "            42.89               51.38                41.66                 32.95              38.64\n",
      "            74.02               76.65                75.29                 64.29              70.66\n",
      "            80.36               81.47                82.51                 74.72              75.99\n",
      "fewnerd\n",
      " contrastive_bert  contrastive_albert  contrastive_roberta  contrastive_spanbert  contrastive_xlnet\n",
      "            27.42               38.16                29.10                 23.40              26.35\n",
      "            52.97               59.71                55.75                 46.03              54.91\n",
      "            59.89               64.53                62.86                 55.47              61.45\n",
      "wikigold\n",
      " contrastive_bert  contrastive_albert  contrastive_roberta  contrastive_spanbert  contrastive_xlnet\n",
      "            16.85               34.05                19.90                 15.39              19.13\n",
      "            49.19               57.67                53.91                 42.92              44.21\n",
      "            56.87               62.68                63.05                 50.93              52.26\n"
     ]
    }
   ],
   "source": [
    "# reshape the F1-scores in a matrix for more efficient number checking\n",
    "for dataset in dataset_list_CL:\n",
    "    reshaped = new_df.loc[new_df[\"dataset\"] == dataset]\n",
    "    reshaped.sort_values([\"kshots\", \"encoder\", \"timestamp\"], inplace=True)\n",
    "    reshaped = reshaped[\"f1_micro\"].to_numpy().reshape((-1, len(encoder_list_CL)))\n",
    "    reshaped = pd.DataFrame(reshaped, columns=encoder_list_CL).to_string(index=False)\n",
    "    print(dataset)\n",
    "    print(reshaped)"
   ]
  }
 ],
 "metadata": {
  "interpreter": {
   "hash": "e7370f93d1d0cde622a1f8e1c04877d8463912d04d973331ad4851f04de6915a"
  },
  "kernelspec": {
   "display_name": "Python 3.9.7 64-bit",
   "name": "python3"
  },
  "language_info": {
   "codemirror_mode": {
    "name": "ipython",
    "version": 3
   },
   "file_extension": ".py",
   "mimetype": "text/x-python",
   "name": "python",
   "nbconvert_exporter": "python",
   "pygments_lexer": "ipython3",
   "version": "3.9.7"
  },
  "orig_nbformat": 4
 },
 "nbformat": 4,
 "nbformat_minor": 2
}
